{
 "cells": [
  {
   "cell_type": "markdown",
   "metadata": {},
   "source": [
    "## Data preprocessing"
   ]
  },
  {
   "cell_type": "markdown",
   "metadata": {},
   "source": [
    "#### Loading G matrix"
   ]
  },
  {
   "cell_type": "code",
   "execution_count": 1,
   "metadata": {},
   "outputs": [],
   "source": [
    "import rpy2.robjects as robjects\n",
    "import numpy as np\n",
    "import pandas as pd\n",
    "# Load the Rdata file\n",
    "robjects.r('load(\"../Geno/GL.RData\")')\n",
    "\n",
    "# Get the list from the Rdata file\n",
    "G_control = robjects.r('GL$Control')\n",
    "G_stress = robjects.r('GL$Stress')\n",
    "\n",
    "# # Convert into numpy array\n",
    "G_con = pd.DataFrame(np.reshape(G_control, (G_control.nrow, G_control.ncol)), columns = G_control.colnames, index = G_control.rownames)\n",
    "G_trt = pd.DataFrame(np.reshape(G_stress, (G_stress.nrow, G_stress.ncol)), columns = G_stress.colnames, index = G_stress.rownames)"
   ]
  },
  {
   "cell_type": "markdown",
   "metadata": {},
   "source": [
    "### Loading Metabolites"
   ]
  },
  {
   "cell_type": "code",
   "execution_count": 2,
   "metadata": {},
   "outputs": [],
   "source": [
    "import os\n",
    "metL = []\n",
    "for i in range(1, 31):\n",
    "    metL.append(pd.read_csv('../Met/CrossValidation/cv_' + str(i) + '/met_cv_' + str(i) + '.csv'))"
   ]
  },
  {
   "cell_type": "code",
   "execution_count": 3,
   "metadata": {},
   "outputs": [],
   "source": [
    "def met_read(met_cv1):\n",
    "\n",
    "    # met_cv1 = pd.read_csv('../Met/CrossValidation/cv_1/met_cv_1.csv')\n",
    "    met_con_cv1_train = met_cv1.query(\"Treatment=='Control' and set == 'train'\")\n",
    "    met_con_cv1_test = met_cv1.query(\"Treatment=='Control' and set == 'test'\")\n",
    "    train_id = np.array(met_con_cv1_train.NSFTV_ID)\n",
    "    test_id = np.array(met_con_cv1_test.NSFTV_ID)\n",
    "\n",
    "    G_con_train = G_con.loc[train_id, ] #155*155\n",
    "    G_con_test = G_con.loc[test_id, ] #38*38\n",
    "    # Convert pd.dataframe into np.array\n",
    "    X_train = np.array(G_con_train)\n",
    "    X_test = np.array(G_con_test)\n",
    "    Y_train = np.array(met_con_cv1_train.iloc[:,2]) #remove Treatment, set columns \n",
    "                                                    #just keep metabolie a1\n",
    "    Y_test = np.array(met_con_cv1_test.iloc[:,2]) #remove Treatment, set columns \n",
    "                                                #just keep metabolie a1\n",
    "    # print('X_train shape is:', X_train.shape)\n",
    "    # print('X_test shape is:', X_test.shape)\n",
    "    # print('Y_train shape is:', Y_train.shape)\n",
    "    # print('Y_test shape is:', Y_test.shape)\n",
    "\n",
    "    return X_train, X_test, Y_train, Y_test"
   ]
  },
  {
   "cell_type": "markdown",
   "metadata": {},
   "source": [
    "## MLP"
   ]
  },
  {
   "cell_type": "code",
   "execution_count": 13,
   "metadata": {},
   "outputs": [],
   "source": [
    "from tensorflow import keras\n",
    "from keras.models import Sequential\n",
    "from keras.layers import Dense, Dropout, Activation, Flatten\n",
    "from keras.utils import np_utils\n",
    "from keras.backend import dropout\n",
    "from sklearn.metrics import mean_squared_error\n",
    "from keras.callbacks import EarlyStopping\n",
    "import random\n",
    "import numpy as np\n",
    "import tensorflow as tf\n",
    "import matplotlib.pyplot as plt"
   ]
  },
  {
   "cell_type": "code",
   "execution_count": 53,
   "metadata": {},
   "outputs": [],
   "source": [
    "def MLP(X_train, X_test, Y_train, Y_test):\n",
    "\n",
    "    seed=42\n",
    "\n",
    "    random.seed(seed)\n",
    "    np.random.seed(seed)\n",
    "    tf.random.set_seed(seed)\n",
    "\n",
    "    model = Sequential(\n",
    "            [\n",
    "                Dense(1024, input_shape=(X_train.shape[1],), activation=\"relu\", name = \"layer1\"),\n",
    "                Dropout(0.2),\n",
    "                Dense(512, activation=\"relu\", name = \"layer2\"),\n",
    "                Dropout(0.2),\n",
    "                Dense(512, activation=\"relu\", name = \"layer3\"),\n",
    "                Dropout(0.2),\n",
    "                Dense(1024, activation=\"relu\", name = \"layer\"),\n",
    "                Dropout(0.2),\n",
    "                Dense(1, activation=\"linear\", name = \"layer4\")\n",
    "            ]\n",
    "        )\n",
    "\n",
    "    # print(model.summary())\n",
    "    opt = keras.optimizers.legacy.Adam(learning_rate=1e-5)\n",
    "    model.compile(loss='mse',\n",
    "                    optimizer=opt,\n",
    "                    metrics=['mse'])\n",
    "\n",
    "    nb_epoch = 1000\n",
    "    batch_size = 50\n",
    "    \n",
    "    early_stopping = EarlyStopping(monitor='val_loss', patience=50)\n",
    "\n",
    "    history = model.fit(X_train, Y_train,\n",
    "            batch_size=batch_size,\n",
    "            epochs=nb_epoch,\n",
    "            verbose=0,\n",
    "            validation_data=(X_test, Y_test),\n",
    "            callbacks=[early_stopping])\n",
    "\n",
    "    Y_pred = model.predict(X_test).reshape(38)\n",
    "\n",
    "    print(\"MSE:\", mean_squared_error(Y_test, Y_pred))\n",
    "    print(\"Corr:\", np.corrcoef(Y_test, Y_pred)[0,1])\n",
    "\n",
    "    print('############################ \\n')\n",
    "    return history"
   ]
  },
  {
   "cell_type": "code",
   "execution_count": 54,
   "metadata": {},
   "outputs": [
    {
     "name": "stdout",
     "output_type": "stream",
     "text": [
      "2/2 [==============================] - 0s 15ms/step\n",
      "MSE: 0.002353548718666375\n",
      "Corr: 0.3223241863235948\n",
      "############################ \n",
      "\n",
      "2/2 [==============================] - 0s 8ms/step\n",
      "MSE: 0.001211404515492178\n",
      "Corr: 0.41969345293923616\n",
      "############################ \n",
      "\n",
      "2/2 [==============================] - 0s 5ms/step\n",
      "MSE: 0.002226829900023756\n",
      "Corr: 0.1676745456997326\n",
      "############################ \n",
      "\n",
      "2/2 [==============================] - 0s 7ms/step\n",
      "MSE: 0.0011396455618501403\n",
      "Corr: 0.2763637920684637\n",
      "############################ \n",
      "\n",
      "2/2 [==============================] - 0s 16ms/step\n",
      "MSE: 0.0014603648522855041\n",
      "Corr: 0.1877539374280997\n",
      "############################ \n",
      "\n",
      "2/2 [==============================] - 0s 12ms/step\n",
      "MSE: 0.001226324633435342\n",
      "Corr: 0.25710963693617506\n",
      "############################ \n",
      "\n",
      "2/2 [==============================] - 0s 6ms/step\n",
      "MSE: 0.0009970987288088994\n",
      "Corr: 0.25270831389689924\n",
      "############################ \n",
      "\n",
      "2/2 [==============================] - 0s 5ms/step\n",
      "MSE: 0.0014060373358692497\n",
      "Corr: 0.12391765193769323\n",
      "############################ \n",
      "\n",
      "2/2 [==============================] - 0s 5ms/step\n",
      "MSE: 0.0013301568160019894\n",
      "Corr: 0.2584730049877081\n",
      "############################ \n",
      "\n",
      "2/2 [==============================] - 0s 6ms/step\n",
      "MSE: 0.0010915750114641415\n",
      "Corr: 0.3534716799959547\n",
      "############################ \n",
      "\n",
      "2/2 [==============================] - 0s 5ms/step\n",
      "MSE: 0.0030462175613246312\n",
      "Corr: 0.13369464547377685\n",
      "############################ \n",
      "\n"
     ]
    }
   ],
   "source": [
    "for i in range(0, 11):\n",
    "    print(\"NOW is running cv #\", i+1)\n",
    "    X_train, X_test, Y_train, Y_test = met_read(metL[i])\n",
    "    history = MLP(X_train, X_test, Y_train, Y_test)"
   ]
  },
  {
   "cell_type": "code",
   "execution_count": 56,
   "metadata": {},
   "outputs": [
    {
     "data": {
      "text/plain": [
       "<matplotlib.legend.Legend at 0x28c739b20>"
      ]
     },
     "execution_count": 56,
     "metadata": {},
     "output_type": "execute_result"
    },
    {
     "data": {
      "image/png": "[encoded data removed]",
      "text/plain": [
       "<Figure size 640x480 with 1 Axes>"
      ]
     },
     "metadata": {},
     "output_type": "display_data"
    }
   ],
   "source": [
    "\n",
    "plt.plot(history.history['loss'], label='loss')\n",
    "plt.plot(history.history['val_loss'], label = 'val_loss')\n",
    "\n",
    "plt.xlabel('Epoch')\n",
    "plt.ylabel('LOSS')\n",
    "plt.legend(loc='upper right')\n",
    "\n"
   ]
  },
  {
   "cell_type": "markdown",
   "metadata": {},
   "source": [
    "## CNN\n",
    "https://stackoverflow.com/questions/66220774/difference-between-the-input-shape-for-a-1d-cnn-2d-cnn-and-3d-cnn  \n",
    "https://www.datatechnotes.com/2019/12/how-to-fit-regression-data-with-cnn.html"
   ]
  },
  {
   "cell_type": "code",
   "execution_count": 4,
   "metadata": {},
   "outputs": [],
   "source": [
    "from tensorflow import keras\n",
    "import matplotlib.pyplot as plt\n",
    "from keras.models import Sequential\n",
    "from keras.layers import Dense, Conv1D, Flatten, GlobalAveragePooling1D, GlobalMaxPool1D, MaxPool1D\n",
    "from sklearn.metrics import mean_squared_error\n",
    "import matplotlib.pyplot as plt\n",
    "from keras.callbacks import EarlyStopping\n",
    "import random\n",
    "import numpy as np\n",
    "import tensorflow as tf"
   ]
  },
  {
   "cell_type": "code",
   "execution_count": 5,
   "metadata": {},
   "outputs": [],
   "source": [
    "def CNN(X_train, X_test, Y_train, Y_test):\n",
    "\n",
    "    seed=42\n",
    "\n",
    "    random.seed(seed)\n",
    "    np.random.seed(seed)\n",
    "    tf.random.set_seed(seed)\n",
    "\n",
    "    model = Sequential()\n",
    "    model.add(Conv1D(32, 8, activation=\"relu\", input_shape=(193,1), padding='same'))\n",
    "    model.add(Conv1D(64, 4, activation=\"relu\", padding='same'))\n",
    "    # model.add(Conv1D(128, 8, activation=\"relu\"))\n",
    "    # model.add(Conv1D(512, 8, activation=\"relu\"))\n",
    "    # model.add(Conv1D(32, 8, activation=\"relu\"))\n",
    "    # model.add(MaxPool1D())\n",
    "    model.add(Flatten())\n",
    "    model.add(Dense(64, activation=\"relu\"))\n",
    "    model.add(Dense(1))\n",
    "    opt = keras.optimizers.legacy.Adam(learning_rate=1e-5)\n",
    "    model.compile(loss=\"mse\", optimizer=opt, metrics=['mse'])\n",
    "    model.summary()\n",
    "    early_stopping = EarlyStopping(monitor='val_loss', patience=10)\n",
    "\n",
    "    history_cnn = model.fit(X_train, Y_train, \n",
    "                            batch_size=12,\n",
    "                            epochs=200, \n",
    "                            verbose=0,\n",
    "                            validation_data=(X_test, Y_test),\n",
    "                            callbacks=[early_stopping])\n",
    "\n",
    "    Y_pred = model.predict(X_test).reshape(38)\n",
    "\n",
    "    print(\"MSE:\", mean_squared_error(Y_test, Y_pred))\n",
    "    print(\"Corr:\", np.corrcoef(Y_test, Y_pred)[0,1])\n",
    "\n",
    "\n",
    "    print('############################ \\n')\n",
    "    \n",
    "    return history_cnn"
   ]
  },
  {
   "cell_type": "code",
   "execution_count": 6,
   "metadata": {},
   "outputs": [
    {
     "name": "stdout",
     "output_type": "stream",
     "text": [
      "NOW is running cv # 1\n",
      "Model: \"sequential\"\n",
      "_________________________________________________________________\n",
      " Layer (type)                Output Shape              Param #   \n",
      "=================================================================\n",
      " conv1d (Conv1D)             (None, 193, 32)           288       \n",
      "                                                                 \n",
      " conv1d_1 (Conv1D)           (None, 193, 64)           8256      \n",
      "                                                                 \n",
      " flatten (Flatten)           (None, 12352)             0         \n",
      "                                                                 \n",
      " dense (Dense)               (None, 64)                790592    \n",
      "                                                                 \n",
      " dense_1 (Dense)             (None, 1)                 65        \n",
      "                                                                 \n",
      "=================================================================\n",
      "Total params: 799,201\n",
      "Trainable params: 799,201\n",
      "Non-trainable params: 0\n",
      "_________________________________________________________________\n"
     ]
    },
    {
     "name": "stderr",
     "output_type": "stream",
     "text": [
      "2023-07-27 16:52:27.022113: W tensorflow/tsl/platform/profile_utils/cpu_utils.cc:128] Failed to get CPU frequency: 0 Hz\n"
     ]
    },
    {
     "name": "stdout",
     "output_type": "stream",
     "text": [
      "2/2 [==============================] - 0s 22ms/step\n",
      "MSE: 7.013409348810882e-05\n",
      "Corr: -0.07116104866413965\n",
      "############################ \n",
      "\n"
     ]
    }
   ],
   "source": [
    "for i in range(0, 1):\n",
    "    print(\"NOW is running cv #\", i+1)\n",
    "    X_train, X_test, Y_train, Y_test = met_read(metL[i])\n",
    "    history_cnn = CNN(X_train, X_test, Y_train, Y_test)"
   ]
  },
  {
   "cell_type": "code",
   "execution_count": 7,
   "metadata": {},
   "outputs": [
    {
     "data": {
      "text/plain": [
       "<matplotlib.legend.Legend at 0x29afd0370>"
      ]
     },
     "execution_count": 7,
     "metadata": {},
     "output_type": "execute_result"
    },
    {
     "data": {
      "image/png": "[encoded data removed]",
      "text/plain": [
       "<Figure size 640x480 with 1 Axes>"
      ]
     },
     "metadata": {},
     "output_type": "display_data"
    }
   ],
   "source": [
    "plt.plot(history_cnn.history['loss'], label='loss')\n",
    "plt.plot(history_cnn.history['val_loss'], label = 'val_loss')\n",
    "\n",
    "plt.xlabel('Epoch')\n",
    "plt.ylabel('LOSS')\n",
    "plt.legend(loc='upper right')\n"
   ]
  },
  {
   "cell_type": "code",
   "execution_count": 8,
   "metadata": {},
   "outputs": [
    {
     "data": {
      "text/plain": [
       "(155, 193)"
      ]
     },
     "execution_count": 8,
     "metadata": {},
     "output_type": "execute_result"
    }
   ],
   "source": [
    "X_train.shape #155*193 "
   ]
  },
  {
   "cell_type": "code",
   "execution_count": 24,
   "metadata": {},
   "outputs": [],
   "source": [
    "from sklearn.decomposition import PCA, KernelPCA"
   ]
  },
  {
   "cell_type": "code",
   "execution_count": 25,
   "metadata": {},
   "outputs": [],
   "source": [
    "fe = KernelPCA(n_components=2,\n",
    "               kernel = 'rbf', \n",
    "               n_jobs=10, \n",
    "               random_state=42)"
   ]
  },
  {
   "cell_type": "code",
   "execution_count": 38,
   "metadata": {},
   "outputs": [
    {
     "data": {
      "text/plain": [
       "(193,)"
      ]
     },
     "execution_count": 38,
     "metadata": {},
     "output_type": "execute_result"
    }
   ],
   "source": [
    "X_train[0, :]"
   ]
  },
  {
   "cell_type": "code",
   "execution_count": null,
   "metadata": {},
   "outputs": [],
   "source": [
    "X_new = fe.fit_transform(X_train[0, :].T)"
   ]
  },
  {
   "cell_type": "code",
   "execution_count": 33,
   "metadata": {},
   "outputs": [
    {
     "data": {
      "text/plain": [
       "(193, 2)"
      ]
     },
     "execution_count": 33,
     "metadata": {},
     "output_type": "execute_result"
    }
   ],
   "source": [
    "X_new.shape"
   ]
  },
  {
   "cell_type": "code",
   "execution_count": null,
   "metadata": {},
   "outputs": [],
   "source": []
  },
  {
   "cell_type": "code",
   "execution_count": null,
   "metadata": {},
   "outputs": [],
   "source": []
  }
 ],
 "metadata": {
  "kernelspec": {
   "display_name": "DLmet",
   "language": "python",
   "name": "python3"
  },
  "language_info": {
   "codemirror_mode": {
    "name": "ipython",
    "version": 3
   },
   "file_extension": ".py",
   "mimetype": "text/x-python",
   "name": "python",
   "nbconvert_exporter": "python",
   "pygments_lexer": "ipython3",
   "version": "3.9.0"
  },
  "orig_nbformat": 4
 },
 "nbformat": 4,
 "nbformat_minor": 2
}
