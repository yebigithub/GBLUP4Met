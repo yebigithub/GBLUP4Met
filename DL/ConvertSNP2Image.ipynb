{
 "cells": [
  {
   "cell_type": "markdown",
   "metadata": {},
   "source": [
    "# DeepInsight Example\n",
    "- This notebook shows how to convert SNP tabular data into SNP images by [DeepInsight](https://alok-ai-lab.github.io/DeepInsight/).\n",
    "- We just applied SNPs on Chromosome 1 as an example.\n",
    "- More details about DeepInsight can be found in [the official github](https://github.com/alok-ai-lab/pyDeepInsight).\n",
    "\n"
   ]
  },
  {
   "cell_type": "code",
   "execution_count": null,
   "metadata": {
    "tags": []
   },
   "outputs": [],
   "source": [
    "from pyDeepInsight import ImageTransformer\n",
    "from pyDeepInsight.utils import Norm2Scaler\n",
    "from sklearn.model_selection import train_test_split\n",
    "from sklearn.preprocessing import LabelEncoder\n",
    "from sklearn.manifold import TSNE\n",
    "import pandas as pd\n",
    "import numpy as np\n",
    "import pyreadr"
   ]
  },
  {
   "cell_type": "markdown",
   "metadata": {},
   "source": [
    "## Training TSNE"
   ]
  },
  {
   "cell_type": "markdown",
   "metadata": {},
   "source": [
    "### Loading SNP per chromosome files."
   ]
  },
  {
   "cell_type": "code",
   "execution_count": 8,
   "metadata": {},
   "outputs": [],
   "source": [
    "# Load SNP per chromosome RData file, \n",
    "# It is generated in DataPreprocessing.Rmd in PreProcessing folder.\n",
    "chrr = \"1\" #Here I just load SNP from chromosome 1. \n",
    "result = pyreadr.read_r('../../../Geno/SNPchrs/SNPchr'+ chrr+ '.RData')\n",
    "geno_chr = result[\"geno_chr\"]\n",
    "expr = geno_chr\n",
    "y = expr.index\n",
    "X = expr.values"
   ]
  },
  {
   "cell_type": "markdown",
   "metadata": {},
   "source": [
    "### Normalize data using LogScaler."
   ]
  },
  {
   "cell_type": "code",
   "execution_count": null,
   "metadata": {},
   "outputs": [],
   "source": [
    "ln = Norm2Scaler() \n",
    "X_norm = ln.fit_transform(X)"
   ]
  },
  {
   "cell_type": "markdown",
   "metadata": {},
   "source": [
    "### Create t-SNE object"
   ]
  },
  {
   "cell_type": "code",
   "execution_count": null,
   "metadata": {},
   "outputs": [],
   "source": [
    "distance_metric = 'cosine'\n",
    "reducer = TSNE(\n",
    "    n_components=2, ## 2 components\n",
    "    metric=distance_metric,\n",
    "    init='random',\n",
    "    learning_rate='auto',\n",
    "    n_jobs=-1,\n",
    "    random_state=42\n",
    ")"
   ]
  },
  {
   "cell_type": "markdown",
   "metadata": {},
   "source": [
    "### Initialize image transformer.\n"
   ]
  },
  {
   "cell_type": "code",
   "execution_count": null,
   "metadata": {},
   "outputs": [],
   "source": [
    "resolution = 277 ##optioinal resolution \n",
    "pixel_size = (resolution,resolution)\n",
    "it = ImageTransformer(\n",
    "    feature_extractor=reducer, \n",
    "    pixels=pixel_size)"
   ]
  },
  {
   "cell_type": "markdown",
   "metadata": {},
   "source": [
    "### Train image transformer, it may take long time."
   ]
  },
  {
   "cell_type": "code",
   "execution_count": null,
   "metadata": {},
   "outputs": [],
   "source": [
    "# Train image transformer on training data and transform training \n",
    "# and testing sets. Values should be between 0 and 1.\n",
    "it.fit(X, plot=True)"
   ]
  },
  {
   "cell_type": "markdown",
   "metadata": {},
   "source": [
    "### Convert all SNP tabular files into SNP images"
   ]
  },
  {
   "cell_type": "code",
   "execution_count": null,
   "metadata": {},
   "outputs": [],
   "source": [
    "X_img = it.transform(X_norm, empty_value=1)\n",
    "np.save(f'../../SNPimg/Chr{chrr}_tsne_{resolution}.npy', X_img)"
   ]
  },
  {
   "cell_type": "code",
   "execution_count": null,
   "metadata": {
    "tags": []
   },
   "outputs": [],
   "source": [
    "# The feature density matrix can be extracted from the trained transformer \n",
    "# in order to view overall feature overlap.\n",
    "import matplotlib.pyplot as plt\n",
    "import matplotlib.ticker as ticker\n",
    "import seaborn as sns\n",
    "\n",
    "fdm = it.feature_density_matrix()\n",
    "fdm[fdm == 0] = np.nan\n",
    "\n",
    "plt.figure(figsize=(10, 7.5))\n",
    "\n",
    "ax = sns.heatmap(fdm, cmap=\"viridis\", linewidths=0., \n",
    "                 linecolor=\"lightgrey\", square=True)\n",
    "ax.xaxis.set_major_locator(ticker.MultipleLocator(5))\n",
    "ax.yaxis.set_major_locator(ticker.MultipleLocator(5))\n",
    "for _, spine in ax.spines.items():\n",
    "    spine.set_visible(True)\n",
    "_ = plt.title(\"Genes per pixel\")"
   ]
  },
  {
   "cell_type": "markdown",
   "metadata": {},
   "source": [
    "## Show TSNE "
   ]
  },
  {
   "cell_type": "markdown",
   "metadata": {},
   "source": [
    "The following are showing plots for the image matrices first four samples \n",
    "of the training set. "
   ]
  },
  {
   "cell_type": "code",
   "execution_count": null,
   "metadata": {},
   "outputs": [],
   "source": [
    "import matplotlib.pyplot as plt\n",
    "import numpy as np\n",
    "\n",
    "# Create a grid of subplots to display images\n",
    "rows, cols = 49, 4\n",
    "fig, axes = plt.subplots(rows, cols, figsize=(8, 98))\n",
    "\n",
    "# Loop through the axes and display images\n",
    "for i in range(rows):\n",
    "    for j in range(cols):\n",
    "        index = i * cols + j\n",
    "        if index < len(X_img):\n",
    "            axes[i, j].imshow(X_img[index])\n",
    "            axes[i, j].title.set_text(f\"{y[index]}\")\n",
    "            axes[i, j].axis('off')\n",
    "\n",
    "# Adjust layout and display the plot\n",
    "plt.tight_layout()\n",
    "# plt.savefig(f'../../SNPimg/Chr{Chr}_tsne_{res}.png')\n",
    "# plt.show()"
   ]
  },
  {
   "cell_type": "markdown",
   "metadata": {},
   "source": [
    "## Reference\n",
    "- Sharma, Alok, et al. \"DeepInsight: A methodology to transform a non-image data to an image for convolution neural network architecture.\" Scientific reports 9.1 (2019): 11399."
   ]
  }
 ],
 "metadata": {
  "kernelspec": {
   "display_name": "Python 3 (ipykernel)",
   "language": "python",
   "name": "python3"
  },
  "language_info": {
   "codemirror_mode": {
    "name": "ipython",
    "version": 3
   },
   "file_extension": ".py",
   "mimetype": "text/x-python",
   "name": "python",
   "nbconvert_exporter": "python",
   "pygments_lexer": "ipython3",
   "version": "3.9.0"
  }
 },
 "nbformat": 4,
 "nbformat_minor": 4
}
