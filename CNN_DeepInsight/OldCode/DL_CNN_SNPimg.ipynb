{
 "cells": [
  {
   "cell_type": "markdown",
   "metadata": {},
   "source": [
    "## Data preprocessing"
   ]
  },
  {
   "cell_type": "code",
   "execution_count": 1,
   "metadata": {},
   "outputs": [
    {
     "name": "stdout",
     "output_type": "stream",
     "text": [
      "Num GPUs Available:  1\n"
     ]
    }
   ],
   "source": [
    "import tensorflow as tf\n",
    "print(\"Num GPUs Available: \", len(tf.config.list_physical_devices('GPU')))"
   ]
  },
  {
   "cell_type": "code",
   "execution_count": 2,
   "metadata": {},
   "outputs": [],
   "source": [
    "# import rpy2.robjects as robjects\n",
    "import numpy as np\n",
    "import pandas as pd\n",
    "import matplotlib.pyplot as plt\n",
    "from scipy import stats\n",
    "import pyreadr\n",
    "import os\n",
    "from PIL import Image\n"
   ]
  },
  {
   "cell_type": "markdown",
   "metadata": {},
   "source": [
    "### Convert RBG into Grayscale"
   ]
  },
  {
   "cell_type": "code",
   "execution_count": 3,
   "metadata": {},
   "outputs": [],
   "source": [
    "# def rgb2gray(Chrr):\n",
    "#     snp = np.load(f\"../../SNPimg/Chr{Chrr}_tsne_277.npy\")\n",
    "#     snp_gray = snp[:,:,:,0]\n",
    "#     print(snp_gray.shape)\n",
    "#     np.save(f'../../SNPimg/Chr{Chrr}_tsne_277.npy', snp_gray)\n",
    "\n",
    "# for Chrr in range(1,13):\n",
    "#     rgb2gray(Chrr)"
   ]
  },
  {
   "cell_type": "code",
   "execution_count": 4,
   "metadata": {},
   "outputs": [
    {
     "data": {
      "text/plain": [
       "(array([[  1.,   0.,   0., ...,   0.,   0., 276.],\n",
       "        [  3.,   0.,   0., ...,   0.,   0., 274.],\n",
       "        [ 10.,   0.,   0., ...,   0.,   0., 267.],\n",
       "        ...,\n",
       "        [  0.,   0.,   0., ...,   4.,   0., 272.],\n",
       "        [  0.,   0.,   0., ...,   0.,   0., 277.],\n",
       "        [  0.,   0.,   0., ...,   1.,   0., 276.]]),\n",
       " array([0. , 0.1, 0.2, 0.3, 0.4, 0.5, 0.6, 0.7, 0.8, 0.9, 1. ]),\n",
       " <a list of 277 BarContainer objects>)"
      ]
     },
     "execution_count": 4,
     "metadata": {},
     "output_type": "execute_result"
    },
    {
     "data": {
      "image/png": "[encoded data removed]",
      "text/plain": [
       "<Figure size 640x480 with 1 Axes>"
      ]
     },
     "metadata": {},
     "output_type": "display_data"
    }
   ],
   "source": [
    "temp = np.load(f\"../../SNPimg/Chr1_tsne_277.npy\")\n",
    "plt.hist(temp[0,:,:])"
   ]
  },
  {
   "cell_type": "code",
   "execution_count": 5,
   "metadata": {},
   "outputs": [],
   "source": [
    "# load all the SNP images from each chromosome.\n",
    "snp_images = [np.load(f\"../../SNPimg/Chr{Chrr}_tsne_277.npy\").reshape(162,277,277) for Chrr in range(1,13)]\n",
    "snp_images_array = np.array(snp_images)"
   ]
  },
  {
   "cell_type": "code",
   "execution_count": 6,
   "metadata": {},
   "outputs": [],
   "source": [
    "chrr = str(1)\n",
    "result = pyreadr.read_r('../../Geno/SNPchrs/SNPchr'+ chrr+ '.RData')\n",
    "geno_chr = result[\"geno_chr\"]\n",
    "expr = geno_chr\n",
    "y = expr.index"
   ]
  },
  {
   "cell_type": "code",
   "execution_count": null,
   "metadata": {},
   "outputs": [],
   "source": [
    "# for id in range(162):\n",
    "#     ## Create folders to save reorganized snp images.\n",
    "#     id_str = y[id]\n",
    "#     id_path = \"../../SNPimg/dataset/\" + id_str \n",
    "#     if os.path.exists(id_path):\n",
    "#         print(\"Already this, go to next \\n\")\n",
    "#     else: os.system(\"mkdir -p \" + id_path)\n",
    "\n",
    "#     ## Save images\n",
    "#     snp_ind = snp_images_array[:,id,:,:]\n",
    "#     for chrr in range(12):\n",
    "#         snp_chr = snp_ind[chrr,:,:]\n",
    "#         # print(snp_chr.shape)\n",
    "#         snp_chr = np.repeat(snp_chr.reshape([277,277,1]), 3, axis=2)\n",
    "#         plt.imsave(f\"{id_path}/Chr{chrr+1}_snp_images.png\", snp_chr)\n",
    "#         print(\"Saved! \\n\")\n"
   ]
  },
  {
   "cell_type": "code",
   "execution_count": null,
   "metadata": {},
   "outputs": [],
   "source": [
    "temp = np.load(\"../../SNPimg/dataset/NSFTV_1/Chr1_snp_images.np.npy\")\n",
    "print(temp.shape)\n",
    "plt.imshow(temp, cmap = 'gray')\n",
    "plt.axis('on')\n",
    "plt.title(\"Id: \" + y[0])\n",
    "plt.show()"
   ]
  },
  {
   "cell_type": "markdown",
   "metadata": {},
   "source": [
    "## CNN ----- Multiple channels for chromosomes"
   ]
  },
  {
   "cell_type": "code",
   "execution_count": null,
   "metadata": {},
   "outputs": [],
   "source": [
    "from keras.models import Sequential\n",
    "from keras.layers import Dropout, Activation, Flatten\n",
    "from keras.layers import Dense, Conv2D, Flatten, GlobalAveragePooling2D, GlobalMaxPool2D, MaxPooling2D, BatchNormalization\n",
    "from tensorflow import keras\n",
    "import random\n",
    "import tensorflow as tf\n",
    "from scipy.stats import zscore\n",
    "from keras.callbacks import EarlyStopping, ModelCheckpoint\n",
    "from sklearn.metrics import mean_squared_error\n",
    "import h5py\n",
    "from keras.models import load_model\n",
    "from keras.callbacks import CSVLogger"
   ]
  },
  {
   "cell_type": "code",
   "execution_count": null,
   "metadata": {},
   "outputs": [],
   "source": [
    "import os\n",
    "metL = []\n",
    "for i in range(1, 31):\n",
    "    metL.append(pd.read_csv('../../Met/CrossValidation/cv_' + str(i) + '/met_cv_' + str(i) + '.csv'))\n",
    "    "
   ]
  },
  {
   "cell_type": "code",
   "execution_count": null,
   "metadata": {},
   "outputs": [],
   "source": [
    "def met_read(met_cv1, mett):\n",
    "    \n",
    "    # met_cv1 = metL[0]\n",
    "    # met_cv1 = pd.read_csv('../Met/CrossValidation/cv_1/met_cv_1.csv')\n",
    "    met_cv1_train = met_cv1.query(\"Treatment=='Control' and set == 'train'\")\n",
    "    met_cv1_test = met_cv1.query(\"Treatment=='Control' and set == 'test'\")\n",
    "\n",
    "    train_ix = met_cv1_train.index.tolist()\n",
    "    test_ix = met_cv1_test.index.tolist()\n",
    "\n",
    "    X = snp_images_multi_channels\n",
    "    X_train = X[train_ix]\n",
    "    X_test = X[test_ix]\n",
    "\n",
    "\n",
    "    Y_train_unscale = np.array(met_cv1_train.iloc[:,mett+1])\n",
    "    Y_train = zscore(Y_train_unscale)\n",
    "\n",
    "    Mean_tr = np.mean(Y_train_unscale)\n",
    "    SD_tr = np.std(Y_train_unscale)                                                \n",
    "\n",
    "    Y_test_unscale = np.array(met_cv1_test.iloc[:,mett+1])\n",
    "    Y_test = (Y_test_unscale - Mean_tr)/SD_tr\n",
    "\n",
    "\n",
    "\n",
    "    #remove Treatment, set columns \n",
    "                                                #just keep metabolie a1\n",
    "    # print('X_train shape is:', X_train.shape)\n",
    "    # print('X_test shape is:', X_test.shape)\n",
    "    # print('Y_train shape is:', Y_train.shape)\n",
    "    # print('Y_test shape is:', Y_test.shape)\n",
    "\n",
    "    return X_train, X_test, Y_train, Y_test"
   ]
  },
  {
   "cell_type": "code",
   "execution_count": null,
   "metadata": {},
   "outputs": [],
   "source": [
    "from keras.callbacks import CSVLogger\n",
    "\n",
    "# Create a simple Keras model\n",
    "model = Sequential()\n",
    "model.add(Dense(units=64, activation='relu', input_dim=100))\n",
    "model.add(Dense(units=10, activation='softmax'))\n",
    "\n",
    "# Compile the model\n",
    "model.compile(loss='categorical_crossentropy', optimizer='sgd', metrics=['accuracy'])\n",
    "\n",
    "# Define the CSVLogger callback\n",
    "csv_logger = CSVLogger('training.log')\n",
    "\n",
    "# Train the model while using the CSVLogger callback\n",
    "model.fit(X_train, y_train, epochs=10, callbacks=[csv_logger])\n"
   ]
  },
  {
   "cell_type": "code",
   "execution_count": null,
   "metadata": {},
   "outputs": [],
   "source": [
    "def cnn_train(X_train, X_test, Y_train, Y_test, seed):\n",
    "    \n",
    "    seed=seed\n",
    "\n",
    "    random.seed(seed)\n",
    "    np.random.seed(seed)\n",
    "    tf.random.set_seed(seed)\n",
    "    keras.utils.set_random_seed(seed)\n",
    "\n",
    "\n",
    "    model = Sequential()\n",
    "\n",
    "    # Add a convolutional layer\n",
    "    model.add(Conv2D(36, (3, 3), input_shape=(277, 277, 12), activation='relu', padding = 'same'))\n",
    "    model.add(MaxPooling2D(pool_size=(2, 2)))\n",
    "    model.add(Dropout(0.5))\n",
    "    model.add(BatchNormalization())\n",
    "\n",
    "    model.add(Conv2D(36*2, (3, 3), activation='relu', padding = 'same'))\n",
    "    model.add(MaxPooling2D(pool_size=(2, 2)))\n",
    "    model.add(Dropout(0.5))\n",
    "    model.add(BatchNormalization())\n",
    "\n",
    "    # model.add(Conv2D(36*3, (3, 3), activation='relu', padding = 'same'))\n",
    "    # model.add(MaxPooling2D(pool_size=(2, 2)))\n",
    "    # model.add(Dropout(0.5))\n",
    "    # model.add(BatchNormalization())\n",
    "\n",
    "    model.add(Conv2D(36*2, (3, 3), activation='relu', padding = 'same'))\n",
    "    model.add(MaxPooling2D(pool_size=(2, 2)))\n",
    "    model.add(Dropout(0.5))\n",
    "    model.add(BatchNormalization())\n",
    "\n",
    "    model.add(Flatten())\n",
    "    model.add(Dense(32, activation=\"relu\"))\n",
    "    model.add(Dense(1, activation='linear'))\n",
    "\n",
    "    # Compile the model\n",
    "    opt = keras.optimizers.legacy.Adam(learning_rate=1e-5)\n",
    "    model.compile(optimizer=opt, loss='mse', metrics=['mse'])\n",
    "    # print(model.summary())\n",
    "    es = EarlyStopping(monitor='val_loss', patience=10)\n",
    "    csv_logger = CSVLogger('training.log')\n",
    "    # mc = ModelCheckpoint('../best_model.h5', monitor='val_loss', mode='min', verbose=0, save_best_only=True)\n",
    "\n",
    "    history=model.fit(X_train, Y_train, \n",
    "                    batch_size = 100,\n",
    "                    epochs = 30,\n",
    "                    verbose = 1,\n",
    "                    validation_data = (X_test, Y_test),\n",
    "                    callbacks = [es, csv_logger])\n",
    "    \n",
    "    # best_model = load_model('../best_model.h5')                \n",
    "\n",
    "    Y_pred = model.predict(X_test, verbose = 0).reshape(38)\n",
    "    corr = np.corrcoef(Y_test, Y_pred)[0,1]\n",
    "\n",
    "    # print(\"MSE:\", mean_squared_error(Y_test, Y_pred))\n",
    "    print(\"Corr:\", np.corrcoef(Y_test, Y_pred)[0,1])\n",
    "\n",
    "    return model, history, corr"
   ]
  },
  {
   "cell_type": "code",
   "execution_count": null,
   "metadata": {},
   "outputs": [],
   "source": [
    "import sys\n",
    "oldStdout = sys.stdout\n",
    "file = open('logFile', 'w')\n",
    "sys.stdout = file"
   ]
  },
  {
   "cell_type": "code",
   "execution_count": null,
   "metadata": {},
   "outputs": [],
   "source": [
    "corr_cnn = list()\n",
    "\n",
    "for cvv in range(0, 1):\n",
    "\n",
    "    print(f'Now is running cv # {cvv+1}')\n",
    "    X_train, X_test, Y_train, Y_test = met_read(metL[cvv], mett=4)\n",
    "    _, cnnn_history, corr_single = cnn_train(X_train, X_test, Y_train, Y_test, seed = 1)\n",
    "    sys.stdout = oldStdout\n",
    "    corr_cnn.append(corr_single)\n",
    "    # cnnn_model.save(f\"../outputs/cv{cvv+1}_model.h5\")\n",
    "    print(\"###########################################\")\n"
   ]
  },
  {
   "cell_type": "code",
   "execution_count": null,
   "metadata": {},
   "outputs": [],
   "source": [
    "plt.plot(cnnn_history.history['loss'], label='loss')\n",
    "plt.plot(cnnn_history.history['val_loss'], label = 'val_loss')\n",
    "\n",
    "plt.xlabel('Epoch')\n",
    "plt.ylabel('LOSS')\n",
    "plt.legend(loc='upper right')\n",
    "plt.show()"
   ]
  },
  {
   "cell_type": "code",
   "execution_count": null,
   "metadata": {},
   "outputs": [],
   "source": [
    "# from keras.models import load_model\n",
    "# cv1 = load_model(\"../outputs/cv1_model.h5\")\n",
    "\n",
    "# Y_pred = cv1.predict(X_test).reshape(38)\n",
    "\n",
    "# print(\"MSE:\", mean_squared_error(Y_test, Y_pred))\n",
    "# print(\"Corr:\", np.corrcoef(Y_test, Y_pred)[0,1])"
   ]
  },
  {
   "cell_type": "code",
   "execution_count": null,
   "metadata": {},
   "outputs": [],
   "source": [
    "# Generate some example data\n",
    "# data = np.random.randn(100, 4)  # 100 data points in 4 groups\n",
    "gblup = np.loadtxt(\"../gblup_25cv_met4.txt\").reshape(25,1)\n",
    "dl = np.loadtxt(\"../DL4GP_25cv_met4.txt\").reshape(25,1)\n",
    "# dl1 = np.loadtxt(\"../DL4GP_25cv_300epoch.txt\").reshape(25,1)\n",
    "\n",
    "temp = np.concatenate([gblup, dl], axis = 1)\n",
    "\n",
    "# Create a boxplot\n",
    "plt.boxplot(temp)\n",
    "\n",
    "# Add labels and title\n",
    "# plt.xticks([1, 2, 3, 4], ['Group 1', 'Group 2', 'Group 3', 'Group 4'])\n",
    "plt.xticks([1, 2], ['GBLUP', 'CNN100'])\n",
    "plt.xlabel('Models')\n",
    "plt.ylabel('Predictive correlation')\n",
    "plt.title('Boxplot met4')\n",
    "\n",
    "# Show the plot\n",
    "plt.show()"
   ]
  },
  {
   "cell_type": "markdown",
   "metadata": {},
   "source": [
    "## MLP"
   ]
  },
  {
   "cell_type": "code",
   "execution_count": null,
   "metadata": {},
   "outputs": [],
   "source": [
    "from tensorflow import keras\n",
    "from keras.models import Sequential\n",
    "from keras.layers import Dense, Dropout, Activation, Flatten\n",
    "from keras.utils import np_utils\n",
    "from keras.backend import dropout\n",
    "from sklearn.metrics import mean_squared_error\n",
    "from keras.callbacks import EarlyStopping\n",
    "import random\n",
    "import numpy as np\n",
    "import tensorflow as tf\n",
    "import matplotlib.pyplot as plt"
   ]
  },
  {
   "cell_type": "code",
   "execution_count": null,
   "metadata": {},
   "outputs": [],
   "source": [
    "def MLP(X_train, X_test, Y_train, Y_test):\n",
    "\n",
    "    seed=42\n",
    "\n",
    "    random.seed(seed)\n",
    "    np.random.seed(seed)\n",
    "    tf.random.set_seed(seed)\n",
    "\n",
    "    model = Sequential(\n",
    "            [\n",
    "                Dense(1024, input_shape=(X_train.shape[1],), activation=\"relu\", name = \"layer1\"),\n",
    "                Dropout(0.2),\n",
    "                Dense(512, activation=\"relu\", name = \"layer2\"),\n",
    "                Dropout(0.2),\n",
    "                Dense(512, activation=\"relu\", name = \"layer3\"),\n",
    "                Dropout(0.2),\n",
    "                Dense(1024, activation=\"relu\", name = \"layer\"),\n",
    "                Dropout(0.2),\n",
    "                Dense(1, activation=\"linear\", name = \"layer4\")\n",
    "            ]\n",
    "        )\n",
    "\n",
    "    # print(model.summary())\n",
    "    opt = keras.optimizers.legacy.Adam(learning_rate=1e-5)\n",
    "    model.compile(loss='mse',\n",
    "                    optimizer=opt,\n",
    "                    metrics=['mse'])\n",
    "\n",
    "    nb_epoch = 1000\n",
    "    batch_size = 50\n",
    "    \n",
    "    early_stopping = EarlyStopping(monitor='val_loss', patience=50)\n",
    "\n",
    "    history = model.fit(X_train, Y_train,\n",
    "            batch_size=batch_size,\n",
    "            epochs=nb_epoch,\n",
    "            verbose=0,\n",
    "            validation_data=(X_test, Y_test),\n",
    "            callbacks=[early_stopping])\n",
    "\n",
    "    Y_pred = model.predict(X_test).reshape(38)\n",
    "\n",
    "    print(\"MSE:\", mean_squared_error(Y_test, Y_pred))\n",
    "    print(\"Corr:\", np.corrcoef(Y_test, Y_pred)[0,1])\n",
    "\n",
    "    print('############################ \\n')\n",
    "    return history"
   ]
  },
  {
   "cell_type": "code",
   "execution_count": null,
   "metadata": {},
   "outputs": [],
   "source": [
    "for i in range(0, 11):\n",
    "    print(\"NOW is running cv #\", i+1)\n",
    "    X_train, X_test, Y_train, Y_test = met_read(metL[i])\n",
    "    history = MLP(X_train, X_test, Y_train, Y_test)"
   ]
  },
  {
   "cell_type": "code",
   "execution_count": null,
   "metadata": {},
   "outputs": [],
   "source": [
    "\n",
    "plt.plot(history.history['loss'], label='loss')\n",
    "plt.plot(history.history['val_loss'], label = 'val_loss')\n",
    "\n",
    "plt.xlabel('Epoch')\n",
    "plt.ylabel('LOSS')\n",
    "plt.legend(loc='upper right')\n",
    "\n"
   ]
  },
  {
   "cell_type": "markdown",
   "metadata": {},
   "source": [
    "## CNN\n",
    "https://stackoverflow.com/questions/66220774/difference-between-the-input-shape-for-a-1d-cnn-2d-cnn-and-3d-cnn  \n",
    "https://www.datatechnotes.com/2019/12/how-to-fit-regression-data-with-cnn.html"
   ]
  },
  {
   "cell_type": "code",
   "execution_count": null,
   "metadata": {},
   "outputs": [],
   "source": [
    "from tensorflow import keras\n",
    "import matplotlib.pyplot as plt\n",
    "from keras.models import Sequential\n",
    "from keras.layers import Dense, Conv1D, Flatten, GlobalAveragePooling1D, GlobalMaxPool1D, MaxPool1D\n",
    "from sklearn.metrics import mean_squared_error\n",
    "import matplotlib.pyplot as plt\n",
    "from keras.callbacks import EarlyStopping\n",
    "import random\n",
    "import numpy as np\n",
    "import tensorflow as tf"
   ]
  },
  {
   "cell_type": "code",
   "execution_count": null,
   "metadata": {},
   "outputs": [],
   "source": [
    "def CNN(X_train, X_test, Y_train, Y_test):\n",
    "\n",
    "    seed=42\n",
    "\n",
    "    random.seed(seed)\n",
    "    np.random.seed(seed)\n",
    "    tf.random.set_seed(seed)\n",
    "\n",
    "    model = Sequential()\n",
    "    model.add(Conv1D(32, 8, activation=\"relu\", input_shape=(193,1), padding='same'))\n",
    "    model.add(Conv1D(64, 4, activation=\"relu\", padding='same'))\n",
    "    # model.add(Conv1D(128, 8, activation=\"relu\"))\n",
    "    # model.add(Conv1D(512, 8, activation=\"relu\"))\n",
    "    # model.add(Conv1D(32, 8, activation=\"relu\"))\n",
    "    # model.add(MaxPool1D())\n",
    "    model.add(Flatten())\n",
    "    model.add(Dense(64, activation=\"relu\"))\n",
    "    model.add(Dense(1))\n",
    "    opt = keras.optimizers.legacy.Adam(learning_rate=1e-5)\n",
    "    model.compile(loss=\"mse\", optimizer=opt, metrics=['mse'])\n",
    "    model.summary()\n",
    "    early_stopping = EarlyStopping(monitor='val_loss', patience=50)\n",
    "\n",
    "    history_cnn = model.fit(X_train, Y_train, \n",
    "                            batch_size=12,\n",
    "                            epochs=200, \n",
    "                            verbose=0,\n",
    "                            validation_data=(X_test, Y_test),\n",
    "                            callbacks=[early_stopping])\n",
    "\n",
    "    Y_pred = model.predict(X_test).reshape(38)\n",
    "\n",
    "    print(\"MSE:\", mean_squared_error(Y_test, Y_pred))\n",
    "    print(\"Corr:\", np.corrcoef(Y_test, Y_pred)[0,1])\n",
    "\n",
    "\n",
    "    print('############################ \\n')\n",
    "    \n",
    "    return history_cnn"
   ]
  },
  {
   "cell_type": "code",
   "execution_count": null,
   "metadata": {},
   "outputs": [],
   "source": [
    "for i in range(0, 1):\n",
    "    print(\"NOW is running cv #\", i+1)\n",
    "    X_train, X_test, Y_train, Y_test = met_read(metL[i])\n",
    "    history_cnn = CNN(X_train, X_test, Y_train, Y_test)"
   ]
  },
  {
   "cell_type": "code",
   "execution_count": null,
   "metadata": {},
   "outputs": [],
   "source": [
    "plt.plot(history_cnn.history['loss'], label='loss')\n",
    "plt.plot(history_cnn.history['val_loss'], label = 'val_loss')\n",
    "\n",
    "plt.xlabel('Epoch')\n",
    "plt.ylabel('LOSS')\n",
    "plt.legend(loc='upper right')\n"
   ]
  },
  {
   "cell_type": "code",
   "execution_count": null,
   "metadata": {},
   "outputs": [],
   "source": [
    "X_train.shape #155*193 "
   ]
  },
  {
   "cell_type": "code",
   "execution_count": null,
   "metadata": {},
   "outputs": [],
   "source": [
    "from sklearn.decomposition import PCA, KernelPCA"
   ]
  },
  {
   "cell_type": "code",
   "execution_count": null,
   "metadata": {},
   "outputs": [],
   "source": [
    "fe = KernelPCA(n_components=2,\n",
    "               kernel = 'rbf', \n",
    "               n_jobs=10, \n",
    "               random_state=42)"
   ]
  },
  {
   "cell_type": "code",
   "execution_count": null,
   "metadata": {},
   "outputs": [],
   "source": [
    "X_train[0, :]"
   ]
  },
  {
   "cell_type": "code",
   "execution_count": null,
   "metadata": {},
   "outputs": [],
   "source": [
    "X_new = fe.fit_transform(X_train[0, :].T)"
   ]
  },
  {
   "cell_type": "code",
   "execution_count": null,
   "metadata": {},
   "outputs": [],
   "source": [
    "X_new.shape"
   ]
  },
  {
   "cell_type": "code",
   "execution_count": null,
   "metadata": {},
   "outputs": [],
   "source": []
  },
  {
   "cell_type": "code",
   "execution_count": null,
   "metadata": {},
   "outputs": [],
   "source": []
  }
 ],
 "metadata": {
  "kernelspec": {
   "display_name": "DLmet",
   "language": "python",
   "name": "python3"
  },
  "language_info": {
   "codemirror_mode": {
    "name": "ipython",
    "version": 3
   },
   "file_extension": ".py",
   "mimetype": "text/x-python",
   "name": "python",
   "nbconvert_exporter": "python",
   "pygments_lexer": "ipython3",
   "version": "3.8.17"
  },
  "orig_nbformat": 4
 },
 "nbformat": 4,
 "nbformat_minor": 2
}
